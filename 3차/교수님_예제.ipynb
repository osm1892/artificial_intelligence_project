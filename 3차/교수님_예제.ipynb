{
 "cells": [
  {
   "cell_type": "markdown",
   "metadata": {
    "pycharm": {
     "name": "#%% md\n"
    }
   },
   "source": [
    "코드는 GitHub aima-python의 코드를 기반으로 일부 수정한 것임."
   ]
  },
  {
   "cell_type": "code",
   "execution_count": 1,
   "metadata": {
    "pycharm": {
     "name": "#%%\n"
    }
   },
   "outputs": [],
   "source": [
    "# 고전적 계획수립 관련 코드가 planning.py에 저장되어 있음\n",
    "from planning import *\n",
    "from search_common import Node\n",
    "from collections import deque"
   ]
  },
  {
   "cell_type": "markdown",
   "metadata": {
    "pycharm": {
     "name": "#%% md\n"
    }
   },
   "source": [
    "# 행동의 계층적 분해를 통한 계획수립 문제 정의"
   ]
  },
  {
   "cell_type": "code",
   "execution_count": 2,
   "metadata": {
    "pycharm": {
     "name": "#%%\n"
    }
   },
   "outputs": [],
   "source": [
    "class HLA(Action):\n",
    "    \"\"\"고수준 행동\"\"\"\n",
    "    unique_group = 1\n",
    "\n",
    "    def __init__(self, action, precond=None, effect=None, duration=0, consume=None, use=None):\n",
    "        \"\"\"\n",
    "        기본 행동(Action)에 제약조건 추가.\n",
    "        - duration: 태스크 실행에 요구되는 시간 기간\n",
    "        - consume: 태스크가 소모하는 소모성 자원을 표현하는 사전\n",
    "        - use: 태스크가 사용하는 재사용 가능 자원을 표현하는 사전\n",
    "        \"\"\"\n",
    "        precond = precond or [None]\n",
    "        effect = effect or [None]\n",
    "        super().__init__(action, precond, effect)\n",
    "        self.duration = duration\n",
    "        self.consumes = consume or {}\n",
    "        self.uses = use or {}\n",
    "        self.completed = False\n",
    "\n",
    "    def do_action(self, job_order, available_resources, kb, args):\n",
    "        \"\"\"\n",
    "        HLA에 기반한 act.\n",
    "        지식베이스 업데이트뿐만 아니라, 자원을 체크하고 행동이 올바른 순서로 실행되도록 보장함.\n",
    "        \"\"\"\n",
    "        if not self.has_usable_resource(available_resources):\n",
    "            raise Exception('Not enough usable resources to execute {}'.format(self.name))\n",
    "        if not self.has_consumable_resource(available_resources):\n",
    "            raise Exception('Not enough consumable resources to execute {}'.format(self.name))\n",
    "        if not self.inorder(job_order):\n",
    "            raise Exception(\"Can't execute {} - execute prerequisite actions first\".\n",
    "                            format(self.name))\n",
    "        kb = super().act(kb, args)  # 지식베이스 업데이트\n",
    "        for resource in self.consumes:  # 소모된 자원 제거\n",
    "            available_resources[resource] -= self.consumes[resource]\n",
    "        self.completed = True  # 작업 상태를 완료로 설정\n",
    "        return kb\n",
    "\n",
    "    def has_consumable_resource(self, available_resources):\n",
    "        \"\"\"\n",
    "        이 행동이 실행되는데 필요한 소모성 자원이 충분한지 확인\n",
    "        \"\"\"\n",
    "        for resource in self.consumes:\n",
    "            if available_resources.get(resource) is None:\n",
    "                return False\n",
    "            if available_resources[resource] < self.consumes[resource]:\n",
    "                return False\n",
    "        return True\n",
    "\n",
    "    def has_usable_resource(self, available_resources):\n",
    "        \"\"\"\n",
    "        이 행동이 실행되는데 필요한 재사용 가능 자원이 충분한지 확인\n",
    "        \"\"\"\n",
    "        for resource in self.uses:\n",
    "            if available_resources.get(resource) is None:\n",
    "                return False\n",
    "            if available_resources[resource] < self.uses[resource]:\n",
    "                return False\n",
    "        return True\n",
    "\n",
    "    def inorder(self, job_order):\n",
    "        \"\"\"\n",
    "        현재 작업 전에 실행되었어야 할 모든 작업들이 성공적으로 실행됐는지 확인\n",
    "        \"\"\"\n",
    "        for jobs in job_order:\n",
    "            if self in jobs:\n",
    "                for job in jobs:\n",
    "                    if job is self:\n",
    "                        return True\n",
    "                    if not job.completed:\n",
    "                        return False\n",
    "        return True"
   ]
  },
  {
   "cell_type": "code",
   "execution_count": 3,
   "metadata": {
    "pycharm": {
     "name": "#%%\n"
    }
   },
   "outputs": [],
   "source": [
    "class RealWorldPlanningProblem(PlanningProblem):\n",
    "    \"\"\"\n",
    "    자원을 이름 대신 수량으로 종합하여 표현함.\n",
    "    HLA로 표현된 자원과 순서 조건을 처리하도록 act 함수를 오버로딩.\n",
    "    \"\"\"\n",
    "\n",
    "    def __init__(self, initial, goals, actions, jobs=None, resources=None):\n",
    "        super().__init__(initial, goals, actions)\n",
    "        self.jobs = jobs\n",
    "        self.resources = resources or {}\n",
    "\n",
    "    def act(self, action):\n",
    "        \"\"\"\n",
    "        HLA를 수행함.\n",
    "        \"\"\"\n",
    "        args = action.args\n",
    "        list_action = first(a for a in self.actions if a.name == action.name)\n",
    "        if list_action is None:\n",
    "            raise Exception(\"Action '{}' not found\".format(action.name))\n",
    "        self.initial = list_action.do_action(self.jobs, self.resources, self.initial, args).clauses\n",
    "\n",
    "    def refinements(self, library):\n",
    "        \"\"\"\n",
    "        library: 모든 가능한 세분들(refinements)에 대한 상세사항들을 포함하는 사전\n",
    "        예:\n",
    "        {\n",
    "        'HLA': [\n",
    "            'Go(Home, SFO)',\n",
    "            'Go(Home, SFO)',\n",
    "            'Drive(Home, SFOLongTermParking)',\n",
    "            'Shuttle(SFOLongTermParking, SFO)',\n",
    "            'Taxi(Home, SFO)'\n",
    "            ],\n",
    "        'steps': [\n",
    "            ['Drive(Home, SFOLongTermParking)', 'Shuttle(SFOLongTermParking, SFO)'],\n",
    "            ['Taxi(Home, SFO)'],\n",
    "            [],\n",
    "            [],\n",
    "            []\n",
    "            ],\n",
    "        # 빈 refinement는 기본 행동을 의미함.\n",
    "        'precond': [\n",
    "            ['At(Home) & Have(Car)'],\n",
    "            ['At(Home)'],\n",
    "            ['At(Home) & Have(Car)'],\n",
    "            ['At(SFOLongTermParking)'],\n",
    "            ['At(Home)']\n",
    "            ],\n",
    "        'effect': [\n",
    "            ['At(SFO) & ~At(Home)'],\n",
    "            ['At(SFO) & ~At(Home)'],\n",
    "            ['At(SFOLongTermParking) & ~At(Home)'],\n",
    "            ['At(SFO) & ~At(SFOLongTermParking)'],\n",
    "            ['At(SFO) & ~At(Home)']\n",
    "            ]}\n",
    "        \"\"\"\n",
    "        indices = [i for i, x in enumerate(library['HLA']) if expr(x).op == self.name]\n",
    "        for i in indices:\n",
    "            actions = []\n",
    "            for j in range(len(library['steps'][i])):\n",
    "                # HLA의 step[j]의 인텍스를 찾음\n",
    "                index_step = [k for k, x in enumerate(library['HLA']) if x == library['steps'][i][j]][0]\n",
    "                precond = library['precond'][index_step][0]  # step[j]의 전제조건\n",
    "                effect = library['effect'][index_step][0]  # step[j]의 결과\n",
    "                actions.append(HLA(library['steps'][i][j], precond, effect))\n",
    "            yield actions\n",
    "\n",
    "    def hierarchical_search(self, hierarchy):\n",
    "        \"\"\"\n",
    "        계층적 탐색: 계층적 순방향 계획수립 탐색(BFS 버전).\n",
    "        hierarchy: HLA - 세분들(refinements)의 사전구조\n",
    "        \"\"\"\n",
    "        act = Node(self.initial, None, [self.actions[0]])\n",
    "        frontier = deque()\n",
    "        frontier.append(act)\n",
    "        while True:\n",
    "            if not frontier:\n",
    "                return None\n",
    "            plan = frontier.popleft()\n",
    "            # plan의 행동들 중 첫번째 (기본 행동이 아닌) HLA를 찾아냄\n",
    "            (hla, index) = RealWorldPlanningProblem.find_hla(plan, hierarchy)\n",
    "            prefix = plan.action[:index]\n",
    "            outcome = RealWorldPlanningProblem(\n",
    "                RealWorldPlanningProblem.result(self.initial, prefix), self.goals, self.actions)\n",
    "            suffix = plan.action[index + 1:]\n",
    "            if not hla:\n",
    "                if outcome.goal_test():\n",
    "                    return plan.action\n",
    "            else:\n",
    "                for sequence in RealWorldPlanningProblem.refinements(hla, hierarchy):\n",
    "                    frontier.append(Node(outcome.initial, plan, prefix + sequence + suffix))\n",
    "\n",
    "    def result(state, actions):\n",
    "        \"\"\"문제에 행동을 적용했을 때의 결과\"\"\"\n",
    "        for a in actions:\n",
    "            if a.check_precond(state, a.args):\n",
    "                state = a(state, a.args).clauses\n",
    "        return state\n",
    "\n",
    "    def angelic_search(self, hierarchy, initial_plan):\n",
    "        \"\"\"\n",
    "        목표를 달성하는 고수준 계획을 인식하여 그 계획을 세분화하는 계층적 계획수립 알고리즘.\n",
    "        목표를 달성하지 않는 고수준 계획은 회피함.\n",
    "        initial_plan에 초기 계획을 세팅하여 호출하면 됨.\n",
    "        initial_plan에 있는 angelic HLA의 결과 예:\n",
    "        ~ : 결과 삭제\n",
    "        $+: 결과 추가 가능\n",
    "        $-: 결과 삭제 가능\n",
    "        $$: 추가나 삭제 가능\n",
    "        \"\"\"\n",
    "        frontier = deque(initial_plan)\n",
    "        while True:\n",
    "            if not frontier:\n",
    "                return None\n",
    "            plan = frontier.popleft()  # HLA 및 angelic HLA의 시퀀스\n",
    "            opt_reachable_set = RealWorldPlanningProblem.reach_opt(self.initial, plan)\n",
    "            pes_reachable_set = RealWorldPlanningProblem.reach_pes(self.initial, plan)\n",
    "            if self.intersects_goal(opt_reachable_set):\n",
    "                if RealWorldPlanningProblem.is_primitive(plan, hierarchy):\n",
    "                    return [x for x in plan.action]\n",
    "                guaranteed = self.intersects_goal(pes_reachable_set)\n",
    "                if guaranteed and RealWorldPlanningProblem.making_progress(plan, initial_plan):\n",
    "                    final_state = guaranteed[0]  # guaranteed 중 임의의 한 항목\n",
    "                    return RealWorldPlanningProblem.decompose(hierarchy, plan, final_state, pes_reachable_set)\n",
    "                hla, index = RealWorldPlanningProblem.find_hla(plan, hierarchy)\n",
    "                prefix = plan.action[:index]\n",
    "                suffix = plan.action[index + 1:]\n",
    "                outcome = RealWorldPlanningProblem(\n",
    "                    RealWorldPlanningProblem.result(self.initial, prefix), self.goals, self.actions)\n",
    "                for sequence in RealWorldPlanningProblem.refinements(hla, hierarchy):\n",
    "                    frontier.append(\n",
    "                        AngelicNode(outcome.initial, plan, prefix + sequence + suffix, prefix + sequence + suffix))\n",
    "\n",
    "    def intersects_goal(self, reachable_set):\n",
    "        \"\"\"\n",
    "        도달 가능 집합과 목표의 교집합을 찾음.\n",
    "        \"\"\"\n",
    "        return [y for x in list(reachable_set.keys())\n",
    "                for y in reachable_set[x]\n",
    "                if all(goal in y for goal in self.goals)]\n",
    "\n",
    "    def is_primitive(plan, library):\n",
    "        \"\"\"\n",
    "        plan이 기본(primitive) 계획인지 확인.\n",
    "        plan의 action에 HLA가 하나라도 포함되어 있으면 False,\n",
    "        HLA가 하나도 없으면(모두 기본 행동이면) True 리턴.\n",
    "        \"\"\"\n",
    "        for hla in plan.action:\n",
    "            indices = [i for i, x in enumerate(library['HLA']) if expr(x).op == hla.name]\n",
    "            for i in indices:\n",
    "                if library[\"steps\"][i]:\n",
    "                    return False\n",
    "        return True\n",
    "\n",
    "    def reach_opt(init, plan):\n",
    "        \"\"\"\n",
    "        plan의 행동 시퀀스에 대해 낙관적 도달 가능 집합을 찾음.\n",
    "        \"\"\"\n",
    "        reachable_set = {0: [init]}\n",
    "        optimistic_description = plan.action  # list of angelic actions with optimistic description\n",
    "        return RealWorldPlanningProblem.find_reachable_set(reachable_set, optimistic_description)\n",
    "\n",
    "    def reach_pes(init, plan):\n",
    "        \"\"\"\n",
    "        plan의 행동 시퀀스에 대해 비관적 도달 가능 집합을 찾음.\n",
    "        \"\"\"\n",
    "        reachable_set = {0: [init]}\n",
    "        pessimistic_description = plan.action_pes  # list of angelic actions with pessimistic description\n",
    "        return RealWorldPlanningProblem.find_reachable_set(reachable_set, pessimistic_description)\n",
    "\n",
    "    def find_reachable_set(reachable_set, action_description):\n",
    "        \"\"\"\n",
    "        도달 가능 집합의 각 상태에 행동 표현 action_description을 적용했을 때 도달 가능한 상태를 찾음.\n",
    "        \"\"\"\n",
    "        for i in range(len(action_description)):\n",
    "            reachable_set[i + 1] = []\n",
    "            if type(action_description[i]) is AngelicHLA:\n",
    "                possible_actions = action_description[i].angelic_action()\n",
    "            else:\n",
    "                possible_actions = action_description\n",
    "            for action in possible_actions:\n",
    "                for state in reachable_set[i]:\n",
    "                    if action.check_precond(state, action.args):\n",
    "                        if action.effect[0]:\n",
    "                            new_state = action(state, action.args).clauses\n",
    "                            reachable_set[i + 1].append(new_state)\n",
    "                        else:\n",
    "                            reachable_set[i + 1].append(state)\n",
    "        return reachable_set\n",
    "\n",
    "    def find_hla(plan, hierarchy):\n",
    "        \"\"\"\n",
    "        plan.action에서 기본 행동이 아닌 첫번째 HLA와 그 인덱스를 찾음.\n",
    "        \"\"\"\n",
    "        hla = None\n",
    "        index = len(plan.action)\n",
    "        for i in range(len(plan.action)):  # find the first HLA in plan, that is not primitive\n",
    "            if not RealWorldPlanningProblem.is_primitive(Node(plan.state, plan.parent, [plan.action[i]]), hierarchy):\n",
    "                hla = plan.action[i]\n",
    "                index = i\n",
    "                break\n",
    "        return hla, index\n",
    "\n",
    "    def making_progress(plan, initial_plan):\n",
    "        \"\"\"\n",
    "        refinement regression이 무한 루프에 빠지지 않도록 방지함.\n",
    "        \"\"\"\n",
    "        for i in range(len(initial_plan)):\n",
    "            if plan == initial_plan[i]:\n",
    "                return False\n",
    "        return True\n",
    "\n",
    "    def decompose(hierarchy, plan, s_f, reachable_set):\n",
    "        solution = []\n",
    "        i = max(reachable_set.keys())\n",
    "        while plan.action_pes:\n",
    "            action = plan.action_pes.pop()\n",
    "            if i == 0:\n",
    "                return solution\n",
    "            s_i = RealWorldPlanningProblem.find_previous_state(s_f, reachable_set, i, action)\n",
    "            problem = RealWorldPlanningProblem(s_i, s_f, plan.action)\n",
    "            angelic_call = RealWorldPlanningProblem.angelic_search(problem, hierarchy,\n",
    "                                                                   [AngelicNode(s_i, Node(None), [action], [action])])\n",
    "            if angelic_call:\n",
    "                for x in angelic_call:\n",
    "                    solution.insert(0, x)\n",
    "            else:\n",
    "                return None\n",
    "            s_f = s_i\n",
    "            i -= 1\n",
    "        return solution\n",
    "\n",
    "    def find_previous_state(s_f, reachable_set, i, action):\n",
    "        \"\"\"\n",
    "        regression(역행).\n",
    "        상태 s_i에 행동 action이 적용됐을 때 s_f(최종 상태)를 리턴하는 상태 s_i를 도달 가능 집합에서 찾음.\n",
    "        \"\"\"\n",
    "        s_i = reachable_set[i - 1][0]\n",
    "        for state in reachable_set[i - 1]:\n",
    "            if s_f in [x for x in RealWorldPlanningProblem.reach_pes(\n",
    "                    state, AngelicNode(state, None, [action], [action]))[1]]:\n",
    "                s_i = state\n",
    "                break\n",
    "        return s_i"
   ]
  },
  {
   "cell_type": "code",
   "execution_count": 4,
   "metadata": {
    "pycharm": {
     "name": "#%%\n"
    }
   },
   "outputs": [],
   "source": [
    "class AngelicHLA(HLA):\n",
    "    \"\"\"\n",
    "    천사적 표현에 기반한 HLA\n",
    "    \"\"\"\n",
    "\n",
    "    def __init__(self, action, precond, effect, duration=0, consume=None, use=None):\n",
    "        super().__init__(action, precond, effect, duration, consume, use)\n",
    "\n",
    "    def convert(self, clauses):\n",
    "        \"\"\"\n",
    "        문자열을 Expr로 변환.\n",
    "        AngelicHLA는 HLA의 결과뿐만 아니라 변수에 대한 다음과 같은 결과를 추가적으로 포함할 수 있음:\n",
    "        - 변수 추가 가능 ( $+ )\n",
    "        - 변수 삭제 가능 ( $- )\n",
    "        - 변수 추가/삭제 가능 ( $$ )\n",
    "        \"\"\"\n",
    "        lib = {'~': 'Not',\n",
    "               '$+': 'PosYes',\n",
    "               '$-': 'PosNot',\n",
    "               '$$': 'PosYesNot'}\n",
    "\n",
    "        if isinstance(clauses, Expr):\n",
    "            clauses = conjuncts(clauses)\n",
    "            for i in range(len(clauses)):\n",
    "                for ch in lib.keys():\n",
    "                    if clauses[i].op == ch:\n",
    "                        clauses[i] = expr(lib[ch] + str(clauses[i].args[0]))\n",
    "\n",
    "        elif isinstance(clauses, str):\n",
    "            for ch in lib.keys():\n",
    "                clauses = clauses.replace(ch, lib[ch])\n",
    "            if len(clauses) > 0:\n",
    "                clauses = expr(clauses)\n",
    "\n",
    "            try:\n",
    "                clauses = conjuncts(clauses)\n",
    "            except AttributeError:\n",
    "                pass\n",
    "\n",
    "        return clauses\n",
    "\n",
    "    def angelic_action(self):\n",
    "        \"\"\"\n",
    "        AngelicHLA를 상응하는 HLA들로 변환.\n",
    "        - 변수 추가 가능 ( $+: 'PosYes' )          -->  HLA_1: 변수 추가\n",
    "                                                        HLA_2: 변수 그대로 유지\n",
    "        - 변수 삭제 가능 ( $-: 'PosNot' )          -->  HLA_1: 변수 삭제\n",
    "                                                        HLA_2: 변수 그대로 유지\n",
    "        - 변수 추가/삭제 가능 ( $$: 'PosYesNot' )  -->  HLA_1: 변수 추가\n",
    "                                                        HLA_2: 변수 삭제\n",
    "                                                        HLA_3: 변수 그대로 유지\n",
    "        예:\n",
    "            '$+A & $$B':    HLA_1: 'A & B'   (add A and add B)\n",
    "                            HLA_2: 'A & ~B'  (add A and remove B)\n",
    "                            HLA_3: 'A'       (add A)\n",
    "                            HLA_4: 'B'       (add B)\n",
    "                            HLA_5: '~B'      (remove B)\n",
    "                            HLA_6: ' '       (no effect)\n",
    "        \"\"\"\n",
    "\n",
    "        effects = [[]]\n",
    "        for clause in self.effect:\n",
    "            (n, w) = AngelicHLA.compute_parameters(clause)\n",
    "            effects = effects * n  # effects를 n개 복사\n",
    "            it = range(1)\n",
    "            if len(effects) != 0:\n",
    "                # effects를 n개의 서브리스트로 분리\n",
    "                it = range(len(effects) // n)\n",
    "            for i in it: # effects의 i번째 항목 수정\n",
    "                if effects[i]:\n",
    "                    if clause.args:\n",
    "                        effects[i] = expr(str(effects[i]) + '&' + str(\n",
    "                            Expr(clause.op[w:], clause.args[0])))  \n",
    "                        if n == 3:\n",
    "                            effects[i + len(effects) // 3] = expr(\n",
    "                                str(effects[i + len(effects) // 3]) + '&' + str(Expr(clause.op[6:], clause.args[0])))\n",
    "                    else:\n",
    "                        effects[i] = expr(\n",
    "                            str(effects[i]) + '&' + str(expr(clause.op[w:]))) \n",
    "                        if n == 3:\n",
    "                            effects[i + len(effects) // 3] = expr(\n",
    "                                str(effects[i + len(effects) // 3]) + '&' + str(expr(clause.op[6:])))\n",
    "\n",
    "                else:\n",
    "                    if clause.args:\n",
    "                        effects[i] = Expr(clause.op[w:], clause.args[0]) \n",
    "                        if n == 3:\n",
    "                            effects[i + len(effects) // 3] = Expr(clause.op[6:], clause.args[0])\n",
    "\n",
    "                    else:\n",
    "                        effects[i] = expr(clause.op[w:]) \n",
    "                        if n == 3:\n",
    "                            effects[i + len(effects) // 3] = expr(clause.op[6:])\n",
    "\n",
    "        return [HLA(Expr(self.name, self.args), self.precond, effects[i]) for i in range(len(effects))]\n",
    "\n",
    "    def compute_parameters(clause):\n",
    "        \"\"\"\n",
    "        n = angelic HLA에 상응하는 HLA 결과의 수\n",
    "        w = angelic HLA 결과 표현의 길이\n",
    "                    n = 1, if effect is add\n",
    "                    n = 1, if effect is remove\n",
    "                    n = 2, if effect is possibly add\n",
    "                    n = 2, if effect is possibly remove\n",
    "                    n = 3, if effect is possibly add or remove\n",
    "        \"\"\"\n",
    "        if clause.op[:9] == 'PosYesNot':\n",
    "            # 변수 추가/삭제 가능: 변수에 대한 3가지 결과 가능\n",
    "            n = 3\n",
    "            w = 9\n",
    "        elif clause.op[:6] == 'PosYes':  # 변수 추가 가능: 변수에 대한 2가지 결과 가능\n",
    "            n = 2\n",
    "            w = 6\n",
    "        elif clause.op[:6] == 'PosNot':  # 변수 삭제 가능: 변수에 대한 2가지 결과 가능\n",
    "            n = 2\n",
    "            w = 3  # We want to keep 'Not' from 'PosNot' when adding action\n",
    "        else:  # variable or ~variable\n",
    "            n = 1\n",
    "            w = 0\n",
    "        return n, w"
   ]
  },
  {
   "cell_type": "code",
   "execution_count": 5,
   "metadata": {
    "pycharm": {
     "name": "#%%\n"
    }
   },
   "outputs": [],
   "source": [
    "class AngelicNode(Node):\n",
    "    \"\"\"\n",
    "    angelic HLA를 반영할 수 있도록 Node 클래스를 확장.\n",
    "    self.action: angelic HLA의 낙관적 표현을 포함함.\n",
    "    self.action_pes: angelic HLA의 비관적 표현을 포함함.\n",
    "    \"\"\"\n",
    "\n",
    "    def __init__(self, state, parent=None, action_opt=None, action_pes=None, path_cost=0):\n",
    "        super().__init__(state, parent, action_opt, path_cost)\n",
    "        self.action_pes = action_pes"
   ]
  },
  {
   "cell_type": "markdown",
   "metadata": {
    "pycharm": {
     "name": "#%% md\n"
    }
   },
   "source": [
    "# 공항 이동 문제 해결"
   ]
  },
  {
   "cell_type": "code",
   "execution_count": 6,
   "metadata": {
    "pycharm": {
     "name": "#%%\n"
    }
   },
   "outputs": [],
   "source": [
    "# HLA 계층구조(hierarchy) 정의(HLA 라이브러리 정의)\n",
    "# steps가 []인 HLA는 기본 행동을 의미함\n",
    "library = {\n",
    "        'HLA': ['Go(Home,SFO)', 'Go(Home,SFO)', 'Drive(Home, SFOLongTermParking)', 'Shuttle(SFOLongTermParking, SFO)', 'Taxi(Home, SFO)'],\n",
    "        'steps': [['Drive(Home, SFOLongTermParking)', 'Shuttle(SFOLongTermParking, SFO)'], ['Taxi(Home, SFO)'], [], [], []],\n",
    "        'precond': [['At(Home) & Have(Car)'], ['At(Home)'], ['At(Home) & Have(Car)'], ['At(SFOLongTermParking)'], ['At(Home)']],\n",
    "        'effect': [['At(SFO) & ~At(Home)'], ['At(SFO) & ~At(Home) & ~Have(Cash)'], ['At(SFOLongTermParking) & ~At(Home)'], ['At(SFO) & ~At(LongTermParking)'], ['At(SFO) & ~At(Home) & ~Have(Cash)']] }"
   ]
  },
  {
   "cell_type": "code",
   "execution_count": 7,
   "metadata": {
    "pycharm": {
     "name": "#%%\n"
    }
   },
   "outputs": [],
   "source": [
    "# 가능한 행동들 정의\n",
    "go_SFO = HLA('Go(Home,SFO)', precond='At(Home)', effect='At(SFO) & ~At(Home)')\n",
    "taxi_SFO = HLA('Taxi(Home,SFO)', precond='At(Home)', effect='At(SFO) & ~At(Home) & ~Have(Cash)')\n",
    "drive_SFOLongTermParking = HLA('Drive(Home, SFOLongTermParking)', 'At(Home) & Have(Car)','At(SFOLongTermParking) & ~At(Home)' )\n",
    "shuttle_SFO = HLA('Shuttle(SFOLongTermParking, SFO)', 'At(SFOLongTermParking)', 'At(SFO) & ~At(LongTermParking)')"
   ]
  },
  {
   "cell_type": "code",
   "execution_count": 8,
   "metadata": {
    "pycharm": {
     "name": "#%%\n"
    }
   },
   "outputs": [
    {
     "name": "stdout",
     "output_type": "stream",
     "text": [
      "[Drive(Home, SFOLongTermParking), Shuttle(SFOLongTermParking, SFO)]\n",
      "[Taxi(Home, SFO)]\n"
     ]
    }
   ],
   "source": [
    "# HLA의 세분들(refinements) 확인\n",
    "for sequence in RealWorldPlanningProblem.refinements(go_SFO, library):\n",
    "    print (sequence)"
   ]
  },
  {
   "cell_type": "code",
   "execution_count": 9,
   "metadata": {
    "pycharm": {
     "name": "#%%\n"
    }
   },
   "outputs": [],
   "source": [
    "# 계층적 계획수립 문제 정의\n",
    "problem = RealWorldPlanningProblem('At(Home) & Have(Cash) & Have(Car)', 'At(SFO) & Have(Cash)', [go_SFO, taxi_SFO, drive_SFOLongTermParking, shuttle_SFO])"
   ]
  },
  {
   "cell_type": "code",
   "execution_count": 10,
   "metadata": {
    "pycharm": {
     "name": "#%%\n"
    }
   },
   "outputs": [],
   "source": [
    "# 근사적 표현으로 초기 계획 정의\n",
    "angelic_opt_description = AngelicHLA('Go(Home,SFO)', precond = 'At(Home)', effect ='$+At(SFO) & $-At(Home)' ) \n",
    "angelic_pes_description = AngelicHLA('Go(Home,SFO)', precond = 'At(Home)', effect ='$+At(SFO) & ~At(Home)' )\n",
    "initialPlan = [AngelicNode(problem.initial, None, [angelic_opt_description], [angelic_pes_description])]"
   ]
  },
  {
   "cell_type": "code",
   "execution_count": 11,
   "metadata": {
    "pycharm": {
     "name": "#%%\n"
    }
   },
   "outputs": [
    {
     "name": "stdout",
     "output_type": "stream",
     "text": [
      "[[At(Home), Have(Cash), Have(Car)], [Have(Cash), Have(Car), At(SFO), NotAt(Home)], [Have(Cash), Have(Car), NotAt(Home)], [At(Home), Have(Cash), Have(Car), At(SFO)], [At(Home), Have(Cash), Have(Car)]] \n",
      "\n",
      "[[At(Home), Have(Cash), Have(Car)], [Have(Cash), Have(Car), At(SFO), NotAt(Home)], [Have(Cash), Have(Car), NotAt(Home)]]\n"
     ]
    }
   ],
   "source": [
    "# 낙관적/비관적 도달 가능 집합 확인\n",
    "opt_reachable_set = RealWorldPlanningProblem.reach_opt(problem.initial, initialPlan[0])\n",
    "pes_reachable_set = RealWorldPlanningProblem.reach_pes(problem.initial, initialPlan[0])\n",
    "print([x for y in opt_reachable_set.keys() for x in opt_reachable_set[y]], '\\n')\n",
    "print([x for y in pes_reachable_set.keys() for x in pes_reachable_set[y]])"
   ]
  },
  {
   "cell_type": "code",
   "execution_count": 12,
   "metadata": {
    "scrolled": true,
    "pycharm": {
     "name": "#%%\n"
    }
   },
   "outputs": [
    {
     "name": "stdout",
     "output_type": "stream",
     "text": [
      "[Drive(Home, SFOLongTermParking), Shuttle(SFOLongTermParking, SFO)] \n",
      "\n"
     ]
    }
   ],
   "source": [
    "# 계층적 계획수립을 통한 계획수립 문제 해결\n",
    "plan = problem.angelic_search(library, initialPlan)\n",
    "print (plan, '\\n')"
   ]
  },
  {
   "cell_type": "code",
   "execution_count": 13,
   "metadata": {
    "pycharm": {
     "name": "#%%\n"
    }
   },
   "outputs": [],
   "source": [
    "# 계층구조를 변경하여 다시 계획수립\n",
    "# 버스, 지하철 등의 이동 수단 추가\n",
    "library2 = {\n",
    "        'HLA': ['Go(Home,SFO)', 'Go(Home,SFO)', 'Bus(Home, MetroStop)', 'Metro(MetroStop, SFO)' , 'Metro(MetroStop, SFO)', 'Metro1(MetroStop, SFO)', 'Metro2(MetroStop, SFO)'  ,'Taxi(Home, SFO)'],\n",
    "        'steps': [['Bus(Home, MetroStop)', 'Metro(MetroStop, SFO)'], ['Taxi(Home, SFO)'], [], ['Metro1(MetroStop, SFO)'], ['Metro2(MetroStop, SFO)'],[],[],[]],\n",
    "        'precond': [['At(Home)'], ['At(Home)'], ['At(Home)'], ['At(MetroStop)'], ['At(MetroStop)'],['At(MetroStop)'], ['At(MetroStop)'] ,['At(Home) & Have(Cash)']],\n",
    "        'effect': [['At(SFO) & ~At(Home)'], ['At(SFO) & ~At(Home) & ~Have(Cash)'], ['At(MetroStop) & ~At(Home)'], ['At(SFO) & ~At(MetroStop)'], ['At(SFO) & ~At(MetroStop)'], ['At(SFO) & ~At(MetroStop)'] , ['At(SFO) & ~At(MetroStop)'] ,['At(SFO) & ~At(Home) & ~Have(Cash)']] \n",
    "        }"
   ]
  },
  {
   "cell_type": "code",
   "execution_count": 14,
   "metadata": {
    "pycharm": {
     "name": "#%%\n"
    }
   },
   "outputs": [
    {
     "name": "stdout",
     "output_type": "stream",
     "text": [
      "[Bus(Home, MetroStop), Metro1(MetroStop, SFO)] \n",
      "\n"
     ]
    }
   ],
   "source": [
    "plan2 = problem.angelic_search(library2, initialPlan)\n",
    "print(plan2, '\\n')"
   ]
  }
 ],
 "metadata": {
  "interpreter": {
   "hash": "5654ab060ddd30a6615c57632adb5ee0760fe8e437ea88cc56cfdcf1ba1ac615"
  },
  "kernelspec": {
   "display_name": "Python 3.9.12 ('venv': venv)",
   "language": "python",
   "name": "python3"
  },
  "language_info": {
   "codemirror_mode": {
    "name": "ipython",
    "version": 3
   },
   "file_extension": ".py",
   "mimetype": "text/x-python",
   "name": "python",
   "nbconvert_exporter": "python",
   "pygments_lexer": "ipython3",
   "version": "3.9.12"
  }
 },
 "nbformat": 4,
 "nbformat_minor": 4
}